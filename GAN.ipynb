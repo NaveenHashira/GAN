{
  "nbformat": 4,
  "nbformat_minor": 0,
  "metadata": {
    "colab": {
      "provenance": []
    },
    "kernelspec": {
      "name": "python3",
      "display_name": "Python 3"
    },
    "language_info": {
      "name": "python"
    }
  },
  "cells": [
    {
      "cell_type": "code",
      "execution_count": null,
      "metadata": {
        "id": "vXajUfzJUIm-"
      },
      "outputs": [],
      "source": [
        "# importing necessary libraires\n",
        "import torch\n",
        "import torch.nn as nn\n",
        "import torch.nn.functional as F\n",
        "import torch.optim as optim\n",
        "from torchvision import datasets, transforms\n",
        "from torch.utils.data import DataLoader"
      ]
    },
    {
      "cell_type": "code",
      "source": [
        "# generator\n",
        "class generator(nn.Module):\n",
        "  def __init__(self,latent_dimension):\n",
        "    super().__init__()\n",
        "    self.generator = nn.Sequential(\n",
        "        nn.Linear(latent_dimension,100),\n",
        "        nn.ReLU(),\n",
        "\n",
        "        nn.Linear(100,2000),\n",
        "        nn.ReLU(),\n",
        "\n",
        "        nn.Linear(2000,3*28*28),\n",
        "        nn.Tanh(),\n",
        "    )\n",
        "\n",
        "  def forward(self,latent_dimension):\n",
        "    x = self.generator(latent_dimension)\n",
        "    return x.view(-1,3,28,28)"
      ],
      "metadata": {
        "id": "fIZKMmrDUhZH"
      },
      "execution_count": 34,
      "outputs": []
    },
    {
      "cell_type": "code",
      "source": [
        "latent_dim = 100\n",
        "batch_size = 2\n",
        "\n",
        "z = torch.randn(batch_size, latent_dim)\n",
        "model = generator(latent_dim)\n",
        "output = model(z)"
      ],
      "metadata": {
        "id": "x6hKxweX04pn"
      },
      "execution_count": 35,
      "outputs": []
    },
    {
      "cell_type": "code",
      "source": [
        "output.shape"
      ],
      "metadata": {
        "colab": {
          "base_uri": "https://localhost:8080/"
        },
        "id": "OAetUKYyx_9f",
        "outputId": "68806a85-e3f3-4f17-dda3-ddf16e479a6b"
      },
      "execution_count": 36,
      "outputs": [
        {
          "output_type": "execute_result",
          "data": {
            "text/plain": [
              "torch.Size([2, 3, 28, 28])"
            ]
          },
          "metadata": {},
          "execution_count": 36
        }
      ]
    },
    {
      "cell_type": "code",
      "source": [
        "# discrimator\n",
        "class discrimator(nn.Module):\n",
        "  def __init__(self):\n",
        "    super().__init__()\n",
        "    self.discriminator = nn.Sequential(\n",
        "        nn.Conv2d(3,32,3), # (32,26,26)\n",
        "        nn.BatchNorm2d(32),\n",
        "        nn.ReLU(),\n",
        "        nn.MaxPool2d(2),  # (32,13,13)\n",
        "\n",
        "        nn.Conv2d(32,64,3), # (64,11,11)\n",
        "        nn.BatchNorm2d(64),\n",
        "        nn.ReLU(),\n",
        "        nn.MaxPool2d(2),  #(64,5,5)\n",
        "\n",
        "        nn.Flatten(),\n",
        "        nn.Linear(64*5*5,1),\n",
        "        nn.Sigmoid()\n",
        "    )\n",
        "\n",
        "  def forward(self,x):\n",
        "    out = self.discriminator(x)\n",
        "    return out\n"
      ],
      "metadata": {
        "id": "OF1Sulpt1wq5"
      },
      "execution_count": 40,
      "outputs": []
    },
    {
      "cell_type": "code",
      "source": [
        "def lol():\n",
        "  x = torch.randn(3,3,28,28)\n",
        "  model = discrimator()\n",
        "  out = model(x)\n",
        "  return out\n",
        "\n",
        "print(lol())"
      ],
      "metadata": {
        "colab": {
          "base_uri": "https://localhost:8080/"
        },
        "id": "Pjs498K4CzrI",
        "outputId": "c6de802d-d35d-47d6-a166-6cbaa09a24c4"
      },
      "execution_count": 42,
      "outputs": [
        {
          "output_type": "stream",
          "name": "stdout",
          "text": [
            "tensor([[0.4275],\n",
            "        [0.4410],\n",
            "        [0.3852]], grad_fn=<SigmoidBackward0>)\n"
          ]
        }
      ]
    },
    {
      "cell_type": "code",
      "source": [
        "class GAN():\n",
        "  def __init__(self,generator,discriminator):\n",
        "    self.generator = generator\n",
        "    self.discrimator = discriminator\n",
        "    self.criterion = nn.BCELoss()\n",
        "\n",
        "\n",
        "  def update_weights(self,model,y,y_hat):\n",
        "    loss = self.criterion(y_hat,y)\n",
        "    optimizer = optim.Adam(model.parameters(),lr=0.0002)\n",
        "    optimizer.zero_grad()\n",
        "    loss.backward()\n",
        "    optimizer.step()\n",
        "\n",
        "\n",
        "  def training(epochs):\n",
        "    pass\n",
        "\n",
        "\n",
        "\n",
        "\n"
      ],
      "metadata": {
        "id": "8HdWkd6EFZ8u"
      },
      "execution_count": null,
      "outputs": []
    }
  ]
}